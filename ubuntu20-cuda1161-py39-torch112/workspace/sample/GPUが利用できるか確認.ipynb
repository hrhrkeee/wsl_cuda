{
 "cells": [
  {
   "cell_type": "code",
   "execution_count": 1,
   "metadata": {},
   "outputs": [
    {
     "name": "stdout",
     "output_type": "stream",
     "text": [
      "2.3.1+cu118\n",
      "cuda, True\n",
      "compute_86\n",
      "find gpu devices, 1\n",
      "cuda:0, NVIDIA GeForce RTX 3060 Ti\n",
      "end\n"
     ]
    }
   ],
   "source": [
    "import torch\n",
    "\n",
    "print(torch.__version__)\n",
    "print(f\"cuda, {torch.cuda.is_available()}\")\n",
    "print(f\"compute_{''.join(map(str,(torch.cuda.get_device_capability())))}\")\n",
    "device_num:int = torch.cuda.device_count()\n",
    "print(f\"find gpu devices, {device_num}\")\n",
    "for idx in range(device_num):\n",
    "    print(f\"cuda:{idx}, {torch.cuda.get_device_name(idx)}\")\n",
    "\n",
    "print(\"end\")"
   ]
  }
 ],
 "metadata": {
  "kernelspec": {
   "display_name": "base",
   "language": "python",
   "name": "python3"
  },
  "language_info": {
   "codemirror_mode": {
    "name": "ipython",
    "version": 3
   },
   "file_extension": ".py",
   "mimetype": "text/x-python",
   "name": "python",
   "nbconvert_exporter": "python",
   "pygments_lexer": "ipython3",
   "version": "3.10.15"
  }
 },
 "nbformat": 4,
 "nbformat_minor": 2
}
