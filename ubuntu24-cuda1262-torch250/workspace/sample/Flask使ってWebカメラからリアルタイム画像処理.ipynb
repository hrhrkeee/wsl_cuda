{
 "cells": [
  {
   "cell_type": "markdown",
   "metadata": {},
   "source": [
    "### Webカメラの画像をグレイスケール化する（軽い処理）"
   ]
  },
  {
   "cell_type": "code",
   "execution_count": null,
   "metadata": {},
   "outputs": [],
   "source": [
    "# !pip install flask flask_socketio"
   ]
  },
  {
   "cell_type": "code",
   "execution_count": 4,
   "metadata": {},
   "outputs": [
    {
     "name": "stdout",
     "output_type": "stream",
     "text": [
      " * Serving Flask app 'flask_sample_gray'\n",
      " * Debug mode: on\n",
      "\u001b[31m\u001b[1mWARNING: This is a development server. Do not use it in a production deployment. Use a production WSGI server instead.\u001b[0m\n",
      " * Running on http://127.0.0.1:5000\n",
      "\u001b[33mPress CTRL+C to quit\u001b[0m\n",
      " * Restarting with stat\n",
      " * Debugger is active!\n",
      " * Debugger PIN: 381-729-225\n",
      "127.0.0.1 - - [30/Oct/2024 16:38:20] \"GET / HTTP/1.1\" 200 -\n",
      "127.0.0.1 - - [30/Oct/2024 16:38:20] \"GET /socket.io/?EIO=4&transport=polling&t=PBUIjdb HTTP/1.1\" 200 -\n",
      "127.0.0.1 - - [30/Oct/2024 16:38:20] \"GET /socket.io/?EIO=4&transport=polling&t=PBUIjfQ&sid=2qKl7397bwQ3C-hZAAAA HTTP/1.1\" 200 -\n",
      "127.0.0.1 - - [30/Oct/2024 16:38:20] \"POST /socket.io/?EIO=4&transport=polling&t=PBUIjfP&sid=2qKl7397bwQ3C-hZAAAA HTTP/1.1\" 200 -\n",
      "127.0.0.1 - - [30/Oct/2024 16:38:21] \"GET /socket.io/?EIO=4&transport=polling&t=PBUIjh4&sid=2qKl7397bwQ3C-hZAAAA HTTP/1.1\" 200 -\n",
      "127.0.0.1 - - [30/Oct/2024 16:38:21] \"\u001b[33mGET /favicon.ico HTTP/1.1\u001b[0m\" 404 -\n",
      "^C\n"
     ]
    }
   ],
   "source": [
    "!python ./flask/flask_sample_gray.py\n"
   ]
  },
  {
   "cell_type": "markdown",
   "metadata": {},
   "source": [
    "### Webカメラの画像から物体検出を行う（重い処理）"
   ]
  },
  {
   "cell_type": "code",
   "execution_count": 5,
   "metadata": {},
   "outputs": [
    {
     "name": "stdout",
     "output_type": "stream",
     "text": [
      "Creating new Ultralytics Settings v0.0.6 file ✅ \n",
      "View Ultralytics Settings with 'yolo settings' or at '/root/.config/Ultralytics/settings.json'\n",
      "Update Settings with 'yolo settings key=value', i.e. 'yolo settings runs_dir=path/to/dir'. For help see https://docs.ultralytics.com/quickstart/#ultralytics-settings.\n",
      " * Serving Flask app 'flask_sample_yolov8'\n",
      " * Debug mode: on\n",
      "\u001b[31m\u001b[1mWARNING: This is a development server. Do not use it in a production deployment. Use a production WSGI server instead.\u001b[0m\n",
      " * Running on http://127.0.0.1:5000\n",
      "\u001b[33mPress CTRL+C to quit\u001b[0m\n",
      " * Restarting with stat\n",
      " * Debugger is active!\n",
      " * Debugger PIN: 381-729-225\n",
      "127.0.0.1 - - [30/Oct/2024 16:38:34] \"GET /socket.io/?EIO=4&transport=polling&t=PBUImC2 HTTP/1.1\" 200 -\n",
      "127.0.0.1 - - [30/Oct/2024 16:38:34] \"GET / HTTP/1.1\" 200 -\n",
      "127.0.0.1 - - [30/Oct/2024 16:38:34] \"POST /socket.io/?EIO=4&transport=polling&t=PBUIn6J&sid=JM7Fshehi7qBjLqXAAAA HTTP/1.1\" 200 -\n",
      "127.0.0.1 - - [30/Oct/2024 16:38:34] \"GET /socket.io/?EIO=4&transport=polling&t=PBUIn6K&sid=JM7Fshehi7qBjLqXAAAA HTTP/1.1\" 200 -\n",
      "127.0.0.1 - - [30/Oct/2024 16:38:34] \"GET /socket.io/?EIO=4&transport=polling&t=PBUIn8I HTTP/1.1\" 200 -\n",
      "127.0.0.1 - - [30/Oct/2024 16:38:34] \"POST /socket.io/?EIO=4&transport=polling&t=PBUIn8g&sid=JM7Fshehi7qBjLqXAAAA HTTP/1.1\" 200 -\n",
      "127.0.0.1 - - [30/Oct/2024 16:38:34] \"GET /socket.io/?EIO=4&transport=polling&t=PBUIn8i&sid=JM7Fshehi7qBjLqXAAAA HTTP/1.1\" 200 -\n",
      "127.0.0.1 - - [30/Oct/2024 16:38:34] \"POST /socket.io/?EIO=4&transport=polling&t=PBUInA6&sid=7GtNzucAuf3PFCSmAAAC HTTP/1.1\" 200 -\n",
      "127.0.0.1 - - [30/Oct/2024 16:38:34] \"GET /socket.io/?EIO=4&transport=polling&t=PBUInA7&sid=7GtNzucAuf3PFCSmAAAC HTTP/1.1\" 200 -\n",
      "127.0.0.1 - - [30/Oct/2024 16:38:34] \"POST /socket.io/?EIO=4&transport=polling&t=PBUInC1&sid=7GtNzucAuf3PFCSmAAAC HTTP/1.1\" 200 -\n",
      "127.0.0.1 - - [30/Oct/2024 16:38:34] \"GET /socket.io/?EIO=4&transport=polling&t=PBUInC2&sid=7GtNzucAuf3PFCSmAAAC HTTP/1.1\" 200 -\n",
      "127.0.0.1 - - [30/Oct/2024 16:38:34] \"GET /socket.io/?EIO=4&transport=websocket&sid=JM7Fshehi7qBjLqXAAAA HTTP/1.1\" 200 -\n",
      "127.0.0.1 - - [30/Oct/2024 16:39:00] \"GET /socket.io/?EIO=4&transport=websocket&sid=7GtNzucAuf3PFCSmAAAC HTTP/1.1\" 200 -\n",
      "^C\n"
     ]
    }
   ],
   "source": [
    "!python ./flask/flask_sample_yolov8.py\n"
   ]
  }
 ],
 "metadata": {
  "kernelspec": {
   "display_name": "base",
   "language": "python",
   "name": "python3"
  },
  "language_info": {
   "codemirror_mode": {
    "name": "ipython",
    "version": 3
   },
   "file_extension": ".py",
   "mimetype": "text/x-python",
   "name": "python",
   "nbconvert_exporter": "python",
   "pygments_lexer": "ipython3",
   "version": "3.10.15"
  }
 },
 "nbformat": 4,
 "nbformat_minor": 2
}
